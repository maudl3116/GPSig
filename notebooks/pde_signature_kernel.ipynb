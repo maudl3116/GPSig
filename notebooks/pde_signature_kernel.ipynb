{
  "cells": [
    {
      "cell_type": "markdown",
      "source": [
        "# Testing the implementation of the PDE signature kernel and its gradients\n",
        "***"
      ],
      "metadata": {}
    },
    {
      "cell_type": "markdown",
      "source": [
        "There exists multiple kernel tricks to approximate the signature kernel:\n",
        "- kernel trick used in SigGPDE (*PDE signature kernel*) implemented in `gpsig.kernels_pde`\n",
        "  * cuda implementation\n",
        "  * cython implementation\n",
        "- kernel trick used in GPSig (*truncated signature kernel*) implemented in `gpsig.kernels`\n",
        "\n",
        "In this notebook:\n",
        "- we validate the implementation of the *PDE signature kernel* for SigGPDE by comparing the results to those obtained with the *truncated signature kernel*\n",
        "- we time the gradients computation"
      ],
      "metadata": {}
    },
    {
      "cell_type": "code",
      "source": [
        "import os\n",
        "os.environ[\"CUDA_DEVICE_ORDER\"]=\"PCI_BUS_ID\"\n",
        "os.environ['CUDA_VISIBLE_DEVICES'] = '0'\n",
        "\n",
        "import sys\n",
        "sys.path.append('..') \n",
        "\n",
        "import numpy as np\n",
        "import matplotlib.pyplot as plt\n",
        "import gpsig\n",
        "import tensorflow as tf\n",
        "\n",
        "import time"
      ],
      "outputs": [
        {
          "output_type": "stream",
          "name": "stdout",
          "text": [
            "WARNING:tensorflow:From /anaconda/envs/test_sigGPDE/lib/python3.7/site-packages/gpflow/session_manager.py:31: The name tf.Session is deprecated. Please use tf.compat.v1.Session instead.\n",
            "\n"
          ]
        },
        {
          "output_type": "stream",
          "name": "stderr",
          "text": [
            "WARNING:tensorflow:From /anaconda/envs/test_sigGPDE/lib/python3.7/site-packages/gpflow/session_manager.py:31: The name tf.Session is deprecated. Please use tf.compat.v1.Session instead.\n",
            "\n"
          ]
        },
        {
          "output_type": "stream",
          "name": "stdout",
          "text": [
            "WARNING:tensorflow:From /anaconda/envs/test_sigGPDE/lib/python3.7/site-packages/gpflow/misc.py:27: The name tf.GraphKeys is deprecated. Please use tf.compat.v1.GraphKeys instead.\n",
            "\n"
          ]
        },
        {
          "output_type": "stream",
          "name": "stderr",
          "text": [
            "WARNING:tensorflow:From /anaconda/envs/test_sigGPDE/lib/python3.7/site-packages/gpflow/misc.py:27: The name tf.GraphKeys is deprecated. Please use tf.compat.v1.GraphKeys instead.\n",
            "\n"
          ]
        },
        {
          "output_type": "stream",
          "name": "stdout",
          "text": [
            "WARNING:tensorflow:From /anaconda/envs/test_sigGPDE/lib/python3.7/site-packages/gpflow/training/tensorflow_optimizer.py:169: The name tf.train.AdadeltaOptimizer is deprecated. Please use tf.compat.v1.train.AdadeltaOptimizer instead.\n",
            "\n"
          ]
        },
        {
          "output_type": "stream",
          "name": "stderr",
          "text": [
            "WARNING:tensorflow:From /anaconda/envs/test_sigGPDE/lib/python3.7/site-packages/gpflow/training/tensorflow_optimizer.py:169: The name tf.train.AdadeltaOptimizer is deprecated. Please use tf.compat.v1.train.AdadeltaOptimizer instead.\n",
            "\n"
          ]
        },
        {
          "output_type": "stream",
          "name": "stdout",
          "text": [
            "WARNING:tensorflow:From /anaconda/envs/test_sigGPDE/lib/python3.7/site-packages/gpflow/training/tensorflow_optimizer.py:156: The name tf.train.Optimizer is deprecated. Please use tf.compat.v1.train.Optimizer instead.\n",
            "\n"
          ]
        },
        {
          "output_type": "stream",
          "name": "stderr",
          "text": [
            "WARNING:tensorflow:From /anaconda/envs/test_sigGPDE/lib/python3.7/site-packages/gpflow/training/tensorflow_optimizer.py:156: The name tf.train.Optimizer is deprecated. Please use tf.compat.v1.train.Optimizer instead.\n",
            "\n"
          ]
        },
        {
          "output_type": "stream",
          "name": "stdout",
          "text": [
            "WARNING:tensorflow:From /anaconda/envs/test_sigGPDE/lib/python3.7/site-packages/gpflow/training/tensorflow_optimizer.py:169: The name tf.train.AdagradDAOptimizer is deprecated. Please use tf.compat.v1.train.AdagradDAOptimizer instead.\n",
            "\n"
          ]
        },
        {
          "output_type": "stream",
          "name": "stderr",
          "text": [
            "WARNING:tensorflow:From /anaconda/envs/test_sigGPDE/lib/python3.7/site-packages/gpflow/training/tensorflow_optimizer.py:169: The name tf.train.AdagradDAOptimizer is deprecated. Please use tf.compat.v1.train.AdagradDAOptimizer instead.\n",
            "\n"
          ]
        },
        {
          "output_type": "stream",
          "name": "stdout",
          "text": [
            "WARNING:tensorflow:From /anaconda/envs/test_sigGPDE/lib/python3.7/site-packages/gpflow/training/tensorflow_optimizer.py:169: The name tf.train.AdagradOptimizer is deprecated. Please use tf.compat.v1.train.AdagradOptimizer instead.\n",
            "\n"
          ]
        },
        {
          "output_type": "stream",
          "name": "stderr",
          "text": [
            "WARNING:tensorflow:From /anaconda/envs/test_sigGPDE/lib/python3.7/site-packages/gpflow/training/tensorflow_optimizer.py:169: The name tf.train.AdagradOptimizer is deprecated. Please use tf.compat.v1.train.AdagradOptimizer instead.\n",
            "\n"
          ]
        },
        {
          "output_type": "stream",
          "name": "stdout",
          "text": [
            "WARNING:tensorflow:From /anaconda/envs/test_sigGPDE/lib/python3.7/site-packages/gpflow/training/tensorflow_optimizer.py:169: The name tf.train.AdamOptimizer is deprecated. Please use tf.compat.v1.train.AdamOptimizer instead.\n",
            "\n"
          ]
        },
        {
          "output_type": "stream",
          "name": "stderr",
          "text": [
            "WARNING:tensorflow:From /anaconda/envs/test_sigGPDE/lib/python3.7/site-packages/gpflow/training/tensorflow_optimizer.py:169: The name tf.train.AdamOptimizer is deprecated. Please use tf.compat.v1.train.AdamOptimizer instead.\n",
            "\n"
          ]
        },
        {
          "output_type": "stream",
          "name": "stdout",
          "text": [
            "WARNING:tensorflow:From /anaconda/envs/test_sigGPDE/lib/python3.7/site-packages/gpflow/training/tensorflow_optimizer.py:169: The name tf.train.FtrlOptimizer is deprecated. Please use tf.compat.v1.train.FtrlOptimizer instead.\n",
            "\n"
          ]
        },
        {
          "output_type": "stream",
          "name": "stderr",
          "text": [
            "WARNING:tensorflow:From /anaconda/envs/test_sigGPDE/lib/python3.7/site-packages/gpflow/training/tensorflow_optimizer.py:169: The name tf.train.FtrlOptimizer is deprecated. Please use tf.compat.v1.train.FtrlOptimizer instead.\n",
            "\n"
          ]
        },
        {
          "output_type": "stream",
          "name": "stdout",
          "text": [
            "WARNING:tensorflow:From /anaconda/envs/test_sigGPDE/lib/python3.7/site-packages/gpflow/training/tensorflow_optimizer.py:169: The name tf.train.GradientDescentOptimizer is deprecated. Please use tf.compat.v1.train.GradientDescentOptimizer instead.\n",
            "\n"
          ]
        },
        {
          "output_type": "stream",
          "name": "stderr",
          "text": [
            "WARNING:tensorflow:From /anaconda/envs/test_sigGPDE/lib/python3.7/site-packages/gpflow/training/tensorflow_optimizer.py:169: The name tf.train.GradientDescentOptimizer is deprecated. Please use tf.compat.v1.train.GradientDescentOptimizer instead.\n",
            "\n"
          ]
        },
        {
          "output_type": "stream",
          "name": "stdout",
          "text": [
            "WARNING:tensorflow:From /anaconda/envs/test_sigGPDE/lib/python3.7/site-packages/gpflow/training/tensorflow_optimizer.py:169: The name tf.train.MomentumOptimizer is deprecated. Please use tf.compat.v1.train.MomentumOptimizer instead.\n",
            "\n"
          ]
        },
        {
          "output_type": "stream",
          "name": "stderr",
          "text": [
            "WARNING:tensorflow:From /anaconda/envs/test_sigGPDE/lib/python3.7/site-packages/gpflow/training/tensorflow_optimizer.py:169: The name tf.train.MomentumOptimizer is deprecated. Please use tf.compat.v1.train.MomentumOptimizer instead.\n",
            "\n"
          ]
        },
        {
          "output_type": "stream",
          "name": "stdout",
          "text": [
            "WARNING:tensorflow:From /anaconda/envs/test_sigGPDE/lib/python3.7/site-packages/gpflow/training/tensorflow_optimizer.py:169: The name tf.train.ProximalAdagradOptimizer is deprecated. Please use tf.compat.v1.train.ProximalAdagradOptimizer instead.\n",
            "\n"
          ]
        },
        {
          "output_type": "stream",
          "name": "stderr",
          "text": [
            "WARNING:tensorflow:From /anaconda/envs/test_sigGPDE/lib/python3.7/site-packages/gpflow/training/tensorflow_optimizer.py:169: The name tf.train.ProximalAdagradOptimizer is deprecated. Please use tf.compat.v1.train.ProximalAdagradOptimizer instead.\n",
            "\n"
          ]
        },
        {
          "output_type": "stream",
          "name": "stdout",
          "text": [
            "WARNING:tensorflow:From /anaconda/envs/test_sigGPDE/lib/python3.7/site-packages/gpflow/training/tensorflow_optimizer.py:169: The name tf.train.ProximalGradientDescentOptimizer is deprecated. Please use tf.compat.v1.train.ProximalGradientDescentOptimizer instead.\n",
            "\n"
          ]
        },
        {
          "output_type": "stream",
          "name": "stderr",
          "text": [
            "WARNING:tensorflow:From /anaconda/envs/test_sigGPDE/lib/python3.7/site-packages/gpflow/training/tensorflow_optimizer.py:169: The name tf.train.ProximalGradientDescentOptimizer is deprecated. Please use tf.compat.v1.train.ProximalGradientDescentOptimizer instead.\n",
            "\n"
          ]
        },
        {
          "output_type": "stream",
          "name": "stdout",
          "text": [
            "WARNING:tensorflow:From /anaconda/envs/test_sigGPDE/lib/python3.7/site-packages/gpflow/training/tensorflow_optimizer.py:169: The name tf.train.RMSPropOptimizer is deprecated. Please use tf.compat.v1.train.RMSPropOptimizer instead.\n",
            "\n"
          ]
        },
        {
          "output_type": "stream",
          "name": "stderr",
          "text": [
            "WARNING:tensorflow:From /anaconda/envs/test_sigGPDE/lib/python3.7/site-packages/gpflow/training/tensorflow_optimizer.py:169: The name tf.train.RMSPropOptimizer is deprecated. Please use tf.compat.v1.train.RMSPropOptimizer instead.\n",
            "\n"
          ]
        },
        {
          "output_type": "stream",
          "name": "stdout",
          "text": [
            "WARNING:tensorflow:From /anaconda/envs/test_sigGPDE/lib/python3.7/site-packages/gpflow/saver/coders.py:80: The name tf.data.Iterator is deprecated. Please use tf.compat.v1.data.Iterator instead.\n",
            "\n"
          ]
        },
        {
          "output_type": "stream",
          "name": "stderr",
          "text": [
            "WARNING:tensorflow:From /anaconda/envs/test_sigGPDE/lib/python3.7/site-packages/gpflow/saver/coders.py:80: The name tf.data.Iterator is deprecated. Please use tf.compat.v1.data.Iterator instead.\n",
            "\n"
          ]
        },
        {
          "output_type": "stream",
          "name": "stdout",
          "text": [
            "Successfully loaded the Cuda PDE signature kernel operator\n",
            "WARNING:tensorflow:From ../gpsig/utils.py:3: The name tf.logging.set_verbosity is deprecated. Please use tf.compat.v1.logging.set_verbosity instead.\n",
            "\n"
          ]
        },
        {
          "output_type": "stream",
          "name": "stderr",
          "text": [
            "WARNING:tensorflow:From ../gpsig/utils.py:3: The name tf.logging.set_verbosity is deprecated. Please use tf.compat.v1.logging.set_verbosity instead.\n",
            "\n"
          ]
        },
        {
          "output_type": "stream",
          "name": "stdout",
          "text": [
            "WARNING:tensorflow:From ../gpsig/utils.py:3: The name tf.logging.ERROR is deprecated. Please use tf.compat.v1.logging.ERROR instead.\n",
            "\n"
          ]
        },
        {
          "output_type": "stream",
          "name": "stderr",
          "text": [
            "WARNING:tensorflow:From ../gpsig/utils.py:3: The name tf.logging.ERROR is deprecated. Please use tf.compat.v1.logging.ERROR instead.\n",
            "\n"
          ]
        }
      ],
      "execution_count": 1,
      "metadata": {}
    },
    {
      "cell_type": "markdown",
      "source": [
        "We start by generating some random data"
      ],
      "metadata": {}
    },
    {
      "cell_type": "code",
      "source": [
        "num_examples = 100\n",
        "len_examples = 20\n",
        "num_features = 2\n",
        "input_dim = len_examples*num_features\n",
        "X = np.random.randn(num_examples, len_examples, num_features)\n",
        "X = X.cumsum(axis=1)\n",
        "X/=np.max(X)"
      ],
      "outputs": [],
      "execution_count": 2,
      "metadata": {}
    },
    {
      "cell_type": "markdown",
      "source": [
        "***\n",
        "### Validating the implementation of the *PDE signature kernel* (forward)\n"
      ],
      "metadata": {}
    },
    {
      "cell_type": "markdown",
      "source": [
        "##### Computing the PDE signature kernel with the Cython operator"
      ],
      "metadata": {}
    },
    {
      "cell_type": "code",
      "source": [
        "order = 3\n",
        "kern_cpu = gpsig.kernels_pde.UntruncSignatureKernel(input_dim, num_features, implementation='cython',order=order)\n",
        "K_pde_cpu = kern_cpu.compute_Kdiag(X.reshape([num_examples, -1]))"
      ],
      "outputs": [],
      "execution_count": 3,
      "metadata": {}
    },
    {
      "cell_type": "markdown",
      "source": [
        "##### Computing the PDE signature kernel with the Cuda operator"
      ],
      "metadata": {}
    },
    {
      "cell_type": "code",
      "source": [
        "order = 3\n",
        "kern_gpu = gpsig.kernels_pde.UntruncSignatureKernel(input_dim, num_features, implementation='gpu_op',order=order)\n",
        "K_pde_gpu = kern_gpu.compute_Kdiag(X.reshape([num_examples, -1]))"
      ],
      "outputs": [],
      "execution_count": 6,
      "metadata": {}
    },
    {
      "cell_type": "markdown",
      "source": [
        "##### Computing the truncated signature kernel\n",
        "\n",
        "We need to take a high number of levels to ensure we have a good approximation of the signature kernel"
      ],
      "metadata": {}
    },
    {
      "cell_type": "code",
      "source": [
        "num_levels = 9\n",
        "kern_trunc = gpsig.kernels.SignatureLinear(input_dim, num_features, num_levels, order=num_levels, normalization=False)\n",
        "K_trunc = kern_trunc.compute_Kdiag(X.reshape([num_examples, -1]))"
      ],
      "outputs": [],
      "execution_count": 7,
      "metadata": {}
    },
    {
      "cell_type": "markdown",
      "source": [
        "##### Comparing the results"
      ],
      "metadata": {}
    },
    {
      "cell_type": "code",
      "source": [
        "K_diff = K_pde_cpu - K_trunc\n",
        "print(np.allclose(K_pde_cpu, K_trunc,rtol=1e-4))"
      ],
      "outputs": [
        {
          "output_type": "stream",
          "name": "stdout",
          "text": [
            "True\n"
          ]
        }
      ],
      "execution_count": 8,
      "metadata": {}
    },
    {
      "cell_type": "code",
      "source": [
        "K_diff = K_pde_gpu - K_trunc\n",
        "print(np.allclose(K_pde_cpu, K_trunc,rtol=1e-4))"
      ],
      "outputs": [
        {
          "output_type": "stream",
          "name": "stdout",
          "text": [
            "True\n"
          ]
        }
      ],
      "execution_count": 9,
      "metadata": {}
    },
    {
      "cell_type": "markdown",
      "source": [
        "***\n",
        "### Computing the gradients of the *PDE signature kernel* (backward)\n"
      ],
      "metadata": {}
    },
    {
      "cell_type": "markdown",
      "source": [
        "##### Computing with the Cython operator"
      ],
      "metadata": {}
    },
    {
      "cell_type": "code",
      "source": [
        "with tf.Session() as sess:   \n",
        "    X_ = tf.constant(X)\n",
        "    res = gpsig.kernels_pde.Kdiag_python(X_)\n",
        "    t = time.time()\n",
        "    grad = tf.gradients(res, X_,unconnected_gradients=tf.UnconnectedGradients.NONE)\n",
        "    grad = sess.run(grad)[0]\n",
        "    print('time Cython: ',  np.round(time.time()-t,3), 's')"
      ],
      "outputs": [
        {
          "output_type": "stream",
          "name": "stdout",
          "text": [
            "time Cython:  0.264 s\n"
          ]
        }
      ],
      "execution_count": 12,
      "metadata": {}
    },
    {
      "cell_type": "markdown",
      "source": [
        "##### Computing with the Cuda operator"
      ],
      "metadata": {}
    },
    {
      "cell_type": "code",
      "source": [
        "with tf.Session(graph=tf.Graph()) as sess: \n",
        "    init = tf.initialize_all_variables()\n",
        "    sess.run(init)\n",
        "    X_ = tf.constant(X)    \n",
        "    kern = gpsig.kernels_pde.UntruncSignatureKernel(input_dim, num_features, implementation='gpu_op',order=order)\n",
        "    \n",
        "    t = time.time()\n",
        "    res = kern.Kdiag(tf.reshape(X_,[-1,input_dim]))\n",
        "    grad = tf.gradients(res, X_,unconnected_gradients=tf.UnconnectedGradients.NONE)\n",
        "    grad = sess.run(grad)\n",
        "    \n",
        "    print('time Cuda: ',  np.round(time.time()-t,3), 's')"
      ],
      "outputs": [
        {
          "output_type": "stream",
          "name": "stdout",
          "text": [
            "time Cuda:  0.339 s\n"
          ]
        }
      ],
      "execution_count": 13,
      "metadata": {}
    },
    {
      "cell_type": "markdown",
      "source": [
        "##### Computing with the truncated kernel"
      ],
      "metadata": {}
    },
    {
      "cell_type": "code",
      "source": [
        "with tf.Session(graph=tf.Graph()) as sess:  \n",
        "    init = tf.initialize_all_variables()\n",
        "    sess.run(init)\n",
        "    kern_trunc = gpsig.kernels.SignatureLinear(input_dim, num_features, num_levels, order=num_levels, normalization=False)\n",
        "    X_ = tf.constant(X)\n",
        "    \n",
        "    t = time.time()\n",
        "    res = kern_trunc.Kdiag(tf.reshape(X_,[-1,input_dim]))\n",
        "    grad_trunc = tf.gradients(res, X_,unconnected_gradients=tf.UnconnectedGradients.NONE)\n",
        "    grad_trunc = sess.run(grad_trunc)[0]\n",
        "    print('time Truncated: ', np.round(time.time()-t,3), 's')"
      ],
      "outputs": [
        {
          "output_type": "stream",
          "name": "stdout",
          "text": [
            "ERROR:tensorflow:==================================\n",
            "Object was never used (type <class 'tensorflow.python.framework.ops.Tensor'>):\n",
            "<tf.Tensor 'SignatureLinear-b4d2f69e-20/lengthscales/IsVariableInitialized:0' shape=() dtype=bool>\n",
            "If you want to mark it as used call its \"mark_used()\" method.\n",
            "It was originally created here:\n",
            "  File \"/anaconda/envs/test_sigGPDE/lib/python3.7/site-packages/gpflow/core/node.py\", line 156, in build\n",
            "    self._build()  File \"/anaconda/envs/test_sigGPDE/lib/python3.7/site-packages/gpflow/params/parameterized.py\", line 302, in _build\n",
            "    self._prior_tensor = self._build_prior(priors)  File \"/anaconda/envs/test_sigGPDE/lib/python3.7/site-packages/gpflow/core/node.py\", line 156, in build\n",
            "    self._build()  File \"/anaconda/envs/test_sigGPDE/lib/python3.7/site-packages/gpflow/params/parameter.py\", line 373, in _build\n",
            "    self._prior_tensor = prior  File \"/anaconda/envs/test_sigGPDE/lib/python3.7/site-packages/tensorflow_core/python/util/tf_should_use.py\", line 198, in wrapped\n",
            "    return _add_should_use_warning(fn(*args, **kwargs))\n",
            "==================================\n"
          ]
        },
        {
          "output_type": "stream",
          "name": "stderr",
          "text": [
            "ERROR:tensorflow:==================================\n",
            "Object was never used (type <class 'tensorflow.python.framework.ops.Tensor'>):\n",
            "<tf.Tensor 'SignatureLinear-b4d2f69e-20/lengthscales/IsVariableInitialized:0' shape=() dtype=bool>\n",
            "If you want to mark it as used call its \"mark_used()\" method.\n",
            "It was originally created here:\n",
            "  File \"/anaconda/envs/test_sigGPDE/lib/python3.7/site-packages/gpflow/core/node.py\", line 156, in build\n",
            "    self._build()  File \"/anaconda/envs/test_sigGPDE/lib/python3.7/site-packages/gpflow/params/parameterized.py\", line 302, in _build\n",
            "    self._prior_tensor = self._build_prior(priors)  File \"/anaconda/envs/test_sigGPDE/lib/python3.7/site-packages/gpflow/core/node.py\", line 156, in build\n",
            "    self._build()  File \"/anaconda/envs/test_sigGPDE/lib/python3.7/site-packages/gpflow/params/parameter.py\", line 373, in _build\n",
            "    self._prior_tensor = prior  File \"/anaconda/envs/test_sigGPDE/lib/python3.7/site-packages/tensorflow_core/python/util/tf_should_use.py\", line 198, in wrapped\n",
            "    return _add_should_use_warning(fn(*args, **kwargs))\n",
            "==================================\n"
          ]
        },
        {
          "output_type": "stream",
          "name": "stdout",
          "text": [
            "ERROR:tensorflow:==================================\n",
            "Object was never used (type <class 'tensorflow.python.framework.ops.Tensor'>):\n",
            "<tf.Tensor 'SignatureLinear-b4d2f69e-20/sigma/IsVariableInitialized:0' shape=() dtype=bool>\n",
            "If you want to mark it as used call its \"mark_used()\" method.\n",
            "It was originally created here:\n",
            "  File \"/anaconda/envs/test_sigGPDE/lib/python3.7/site-packages/gpflow/core/node.py\", line 156, in build\n",
            "    self._build()  File \"/anaconda/envs/test_sigGPDE/lib/python3.7/site-packages/gpflow/params/parameterized.py\", line 302, in _build\n",
            "    self._prior_tensor = self._build_prior(priors)  File \"/anaconda/envs/test_sigGPDE/lib/python3.7/site-packages/gpflow/core/node.py\", line 156, in build\n",
            "    self._build()  File \"/anaconda/envs/test_sigGPDE/lib/python3.7/site-packages/gpflow/params/parameter.py\", line 373, in _build\n",
            "    self._prior_tensor = prior  File \"/anaconda/envs/test_sigGPDE/lib/python3.7/site-packages/tensorflow_core/python/util/tf_should_use.py\", line 198, in wrapped\n",
            "    return _add_should_use_warning(fn(*args, **kwargs))\n",
            "==================================\n"
          ]
        },
        {
          "output_type": "stream",
          "name": "stderr",
          "text": [
            "ERROR:tensorflow:==================================\n",
            "Object was never used (type <class 'tensorflow.python.framework.ops.Tensor'>):\n",
            "<tf.Tensor 'SignatureLinear-b4d2f69e-20/sigma/IsVariableInitialized:0' shape=() dtype=bool>\n",
            "If you want to mark it as used call its \"mark_used()\" method.\n",
            "It was originally created here:\n",
            "  File \"/anaconda/envs/test_sigGPDE/lib/python3.7/site-packages/gpflow/core/node.py\", line 156, in build\n",
            "    self._build()  File \"/anaconda/envs/test_sigGPDE/lib/python3.7/site-packages/gpflow/params/parameterized.py\", line 302, in _build\n",
            "    self._prior_tensor = self._build_prior(priors)  File \"/anaconda/envs/test_sigGPDE/lib/python3.7/site-packages/gpflow/core/node.py\", line 156, in build\n",
            "    self._build()  File \"/anaconda/envs/test_sigGPDE/lib/python3.7/site-packages/gpflow/params/parameter.py\", line 373, in _build\n",
            "    self._prior_tensor = prior  File \"/anaconda/envs/test_sigGPDE/lib/python3.7/site-packages/tensorflow_core/python/util/tf_should_use.py\", line 198, in wrapped\n",
            "    return _add_should_use_warning(fn(*args, **kwargs))\n",
            "==================================\n"
          ]
        },
        {
          "output_type": "stream",
          "name": "stdout",
          "text": [
            "ERROR:tensorflow:==================================\n",
            "Object was never used (type <class 'tensorflow.python.framework.ops.Tensor'>):\n",
            "<tf.Tensor 'SignatureLinear-b4d2f69e-20/variances/IsVariableInitialized:0' shape=() dtype=bool>\n",
            "If you want to mark it as used call its \"mark_used()\" method.\n",
            "It was originally created here:\n",
            "  File \"/anaconda/envs/test_sigGPDE/lib/python3.7/site-packages/gpflow/core/node.py\", line 156, in build\n",
            "    self._build()  File \"/anaconda/envs/test_sigGPDE/lib/python3.7/site-packages/gpflow/params/parameterized.py\", line 302, in _build\n",
            "    self._prior_tensor = self._build_prior(priors)  File \"/anaconda/envs/test_sigGPDE/lib/python3.7/site-packages/gpflow/core/node.py\", line 156, in build\n",
            "    self._build()  File \"/anaconda/envs/test_sigGPDE/lib/python3.7/site-packages/gpflow/params/parameter.py\", line 373, in _build\n",
            "    self._prior_tensor = prior  File \"/anaconda/envs/test_sigGPDE/lib/python3.7/site-packages/tensorflow_core/python/util/tf_should_use.py\", line 198, in wrapped\n",
            "    return _add_should_use_warning(fn(*args, **kwargs))\n",
            "==================================\n"
          ]
        },
        {
          "output_type": "stream",
          "name": "stderr",
          "text": [
            "ERROR:tensorflow:==================================\n",
            "Object was never used (type <class 'tensorflow.python.framework.ops.Tensor'>):\n",
            "<tf.Tensor 'SignatureLinear-b4d2f69e-20/variances/IsVariableInitialized:0' shape=() dtype=bool>\n",
            "If you want to mark it as used call its \"mark_used()\" method.\n",
            "It was originally created here:\n",
            "  File \"/anaconda/envs/test_sigGPDE/lib/python3.7/site-packages/gpflow/core/node.py\", line 156, in build\n",
            "    self._build()  File \"/anaconda/envs/test_sigGPDE/lib/python3.7/site-packages/gpflow/params/parameterized.py\", line 302, in _build\n",
            "    self._prior_tensor = self._build_prior(priors)  File \"/anaconda/envs/test_sigGPDE/lib/python3.7/site-packages/gpflow/core/node.py\", line 156, in build\n",
            "    self._build()  File \"/anaconda/envs/test_sigGPDE/lib/python3.7/site-packages/gpflow/params/parameter.py\", line 373, in _build\n",
            "    self._prior_tensor = prior  File \"/anaconda/envs/test_sigGPDE/lib/python3.7/site-packages/tensorflow_core/python/util/tf_should_use.py\", line 198, in wrapped\n",
            "    return _add_should_use_warning(fn(*args, **kwargs))\n",
            "==================================\n"
          ]
        },
        {
          "output_type": "stream",
          "name": "stdout",
          "text": [
            "time Truncated:  4.122 s\n"
          ]
        }
      ],
      "execution_count": 15,
      "metadata": {}
    }
  ],
  "metadata": {
    "kernelspec": {
      "name": "test_siggpde",
      "language": "python",
      "display_name": "test_sigGPDE"
    },
    "language_info": {
      "name": "python",
      "version": "3.7.9",
      "mimetype": "text/x-python",
      "codemirror_mode": {
        "name": "ipython",
        "version": 3
      },
      "pygments_lexer": "ipython3",
      "nbconvert_exporter": "python",
      "file_extension": ".py"
    },
    "kernel_info": {
      "name": "test_siggpde"
    },
    "nteract": {
      "version": "nteract-front-end@1.0.0"
    }
  },
  "nbformat": 4,
  "nbformat_minor": 4
}