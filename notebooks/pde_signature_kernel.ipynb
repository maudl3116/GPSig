{
 "cells": [
  {
   "cell_type": "markdown",
   "metadata": {},
   "source": [
    "# Testing the implementation of the SigGPDE signature kernel and its gradients\n",
    "***"
   ]
  },
  {
   "cell_type": "markdown",
   "metadata": {},
   "source": [
    "For SigGPDE we implemented a recent kernel trick to approximate the signature kernel in `gpsig.kernels_pde`. We provide both a Cuda and a Cython implementation. \n",
    "\n",
    "In this notebook:\n",
    "- we validate the implementation of the SigGPDE kernel by comparing the results to those obtained with the *truncated signature kernel* trick from GPSig (see `gpsig.kernels`)\n",
    "- we time the gradients computation"
   ]
  },
  {
   "cell_type": "code",
   "execution_count": null,
   "metadata": {},
   "outputs": [],
   "source": [
    "import os\n",
    "os.environ[\"CUDA_DEVICE_ORDER\"]=\"PCI_BUS_ID\"\n",
    "os.environ['CUDA_VISIBLE_DEVICES'] = '0'\n",
    "\n",
    "import sys\n",
    "sys.path.append('..') \n",
    "\n",
    "import numpy as np\n",
    "import matplotlib.pyplot as plt\n",
    "import gpsig\n",
    "import tensorflow as tf\n",
    "import time"
   ]
  },
  {
   "cell_type": "markdown",
   "metadata": {},
   "source": [
    "We start by generating some random data"
   ]
  },
  {
   "cell_type": "code",
   "execution_count": 2,
   "metadata": {},
   "outputs": [],
   "source": [
    "num_examples = 300\n",
    "len_examples = 20\n",
    "num_features = 5\n",
    "input_dim = len_examples*num_features\n",
    "X = np.random.randn(num_examples, len_examples, num_features)\n",
    "X = X.cumsum(axis=1)\n",
    "X/=np.max(X)"
   ]
  },
  {
   "cell_type": "markdown",
   "metadata": {},
   "source": [
    "***\n",
    "### Validating the implementation of the SigPDE signature kernel (forward)\n"
   ]
  },
  {
   "cell_type": "markdown",
   "metadata": {},
   "source": [
    "##### Computing the SigPDE signature kernel with the Cython operator"
   ]
  },
  {
   "cell_type": "code",
   "execution_count": 3,
   "metadata": {},
   "outputs": [],
   "source": [
    "order = 2\n",
    "kern_cpu = gpsig.kernels_pde.UntruncSignatureKernel(input_dim, num_features, implementation='cython',order=order)\n",
    "K_pde_cpu = kern_cpu.compute_Kdiag(X.reshape([num_examples, -1]))"
   ]
  },
  {
   "cell_type": "markdown",
   "metadata": {},
   "source": [
    "##### Computing the SigGPDE signature kernel with the Cuda operator"
   ]
  },
  {
   "cell_type": "code",
   "execution_count": 4,
   "metadata": {},
   "outputs": [],
   "source": [
    "order = 2\n",
    "kern_gpu = gpsig.kernels_pde.UntruncSignatureKernel(input_dim, num_features, implementation='gpu_op',order=order)\n",
    "K_pde_gpu = kern_gpu.compute_Kdiag(X.reshape([num_examples, -1]))"
   ]
  },
  {
   "cell_type": "markdown",
   "metadata": {},
   "source": [
    "##### Computing the truncated signature kernel\n",
    "\n",
    "We need to take a high number of levels to ensure we have a good approximation of the signature kernel"
   ]
  },
  {
   "cell_type": "code",
   "execution_count": 5,
   "metadata": {},
   "outputs": [],
   "source": [
    "num_levels = 9\n",
    "kern_trunc = gpsig.kernels.SignatureLinear(input_dim, num_features, num_levels, order=num_levels, normalization=False)\n",
    "K_trunc = kern_trunc.compute_Kdiag(X.reshape([num_examples, -1]))"
   ]
  },
  {
   "cell_type": "markdown",
   "metadata": {},
   "source": [
    "##### Comparing the results"
   ]
  },
  {
   "cell_type": "code",
   "execution_count": 6,
   "metadata": {},
   "outputs": [
    {
     "name": "stdout",
     "output_type": "stream",
     "text": [
      "True\n"
     ]
    }
   ],
   "source": [
    "K_diff = K_pde_cpu - K_trunc\n",
    "print(np.allclose(K_pde_cpu, K_trunc,rtol=1e-4))"
   ]
  },
  {
   "cell_type": "code",
   "execution_count": 7,
   "metadata": {},
   "outputs": [
    {
     "name": "stdout",
     "output_type": "stream",
     "text": [
      "True\n"
     ]
    }
   ],
   "source": [
    "K_diff = K_pde_gpu - K_trunc\n",
    "print(np.allclose(K_pde_cpu, K_trunc,rtol=1e-4))"
   ]
  },
  {
   "cell_type": "markdown",
   "metadata": {},
   "source": [
    "***\n",
    "### Computing the gradients of the SigPDE signature kernel (backward)\n"
   ]
  },
  {
   "cell_type": "markdown",
   "metadata": {},
   "source": [
    "##### Computing with the Cython operator"
   ]
  },
  {
   "cell_type": "code",
   "execution_count": 8,
   "metadata": {},
   "outputs": [
    {
     "name": "stdout",
     "output_type": "stream",
     "text": [
      "time Cython:  0.231 s\n"
     ]
    }
   ],
   "source": [
    "with tf.Session(graph=tf.Graph()) as sess: \n",
    "    init = tf.initialize_all_variables()\n",
    "    sess.run(init)\n",
    "    X_ = tf.constant(X)    \n",
    "    kern = gpsig.kernels_pde.UntruncSignatureKernel(input_dim, num_features, implementation='cython',order=order)\n",
    "    \n",
    "    t = time.time()\n",
    "    res = kern.Kdiag(tf.reshape(X_,[-1,input_dim]))\n",
    "    grad = tf.gradients(res, X_,unconnected_gradients=tf.UnconnectedGradients.NONE)\n",
    "    grad = sess.run(grad)\n",
    "    \n",
    "    print('time Cython: ',  np.round(time.time()-t,3), 's')"
   ]
  },
  {
   "cell_type": "markdown",
   "metadata": {},
   "source": [
    "##### Computing with the Cuda operator"
   ]
  },
  {
   "cell_type": "code",
   "execution_count": 10,
   "metadata": {},
   "outputs": [
    {
     "name": "stdout",
     "output_type": "stream",
     "text": [
      "time Cuda:  0.318 s\n"
     ]
    }
   ],
   "source": [
    "with tf.Session(graph=tf.Graph()) as sess: \n",
    "    init = tf.initialize_all_variables()\n",
    "    sess.run(init)\n",
    "    X_ = tf.constant(X)    \n",
    "    kern = gpsig.kernels_pde.UntruncSignatureKernel(input_dim, num_features, implementation='gpu_op',order=order)\n",
    "\n",
    "    t = time.time()\n",
    "    res = kern.Kdiag(tf.reshape(X_,[-1,input_dim]))\n",
    "    grad = tf.gradients(res, X_,unconnected_gradients=tf.UnconnectedGradients.NONE)\n",
    "    grad = sess.run(grad)\n",
    "\n",
    "    print('time Cuda: ',  np.round(time.time()-t,3), 's')"
   ]
  },
  {
   "cell_type": "markdown",
   "metadata": {},
   "source": [
    "##### Computing with the truncated kernel"
   ]
  },
  {
   "cell_type": "code",
   "execution_count": 12,
   "metadata": {},
   "outputs": [
    {
     "name": "stdout",
     "output_type": "stream",
     "text": [
      "time Truncated:  4.054 s\n"
     ]
    }
   ],
   "source": [
    "with tf.Session(graph=tf.Graph()) as sess:   \n",
    "    init = tf.initialize_all_variables()\n",
    "    sess.run(init)\n",
    "    kern_trunc = gpsig.kernels.SignatureLinear(input_dim, num_features, num_levels, order=num_levels, normalization=False)\n",
    "    X_ = tf.constant(X)\n",
    "\n",
    "    t = time.time()    \n",
    "    res = kern_trunc.Kdiag(tf.reshape(X_,[-1,input_dim]))\n",
    "    grad_trunc = tf.gradients(res, X_,unconnected_gradients=tf.UnconnectedGradients.NONE)\n",
    "    grad_trunc = sess.run(grad_trunc)[0]\n",
    "    print('time Truncated: ', np.round(time.time()-t,3), 's')"
   ]
  }
 ],
 "metadata": {
  "kernel_info": {
   "name": "test_siggpde"
  },
  "kernelspec": {
   "display_name": "test_sigGPDE",
   "language": "python",
   "name": "test_siggpde"
  },
  "language_info": {
   "codemirror_mode": {
    "name": "ipython",
    "version": 3
   },
   "file_extension": ".py",
   "mimetype": "text/x-python",
   "name": "python",
   "nbconvert_exporter": "python",
   "pygments_lexer": "ipython3",
   "version": "3.7.9"
  },
  "nteract": {
   "version": "nteract-front-end@1.0.0"
  }
 },
 "nbformat": 4,
 "nbformat_minor": 4
}
